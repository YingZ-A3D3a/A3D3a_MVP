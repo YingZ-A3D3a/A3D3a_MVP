{
 "cells": [
  {
   "cell_type": "code",
   "execution_count": 2,
   "id": "1cd451f8-3da3-4e8d-aec5-3a266d7c0421",
   "metadata": {},
   "outputs": [],
   "source": [
    "import os\n",
    "import numpy as np\n",
    "import pandas as pd\n",
    "\n",
    "dir2 = '/Users/yzhu16/Downloads/A3D3a/PGM_TCGA_project/Study Bias'"
   ]
  },
  {
   "cell_type": "code",
   "execution_count": 17,
   "id": "8ea6d259-af9f-4a88-a583-f11882b10e6c",
   "metadata": {},
   "outputs": [
    {
     "name": "stderr",
     "output_type": "stream",
     "text": [
      "/opt/anaconda3/lib/python3.9/site-packages/IPython/core/interactiveshell.py:3369: FutureWarning: In a future version of pandas all arguments of read_csv except for the argument 'filepath_or_buffer' will be keyword-only.\n",
      "  exec(code_obj, self.user_global_ns, self.user_ns)\n"
     ]
    },
    {
     "name": "stdout",
     "output_type": "stream",
     "text": [
      "(1782530, 3)\n",
      "   #tax_id  GeneID  PubMed_ID\n",
      "0     9606       1    2591067\n",
      "1     9606       1    3458201\n",
      "2     9606       1    3610142\n",
      "3     9606       1    8889549\n",
      "4     9606       1   12477932\n"
     ]
    },
    {
     "data": {
      "text/html": [
       "<div>\n",
       "<style scoped>\n",
       "    .dataframe tbody tr th:only-of-type {\n",
       "        vertical-align: middle;\n",
       "    }\n",
       "\n",
       "    .dataframe tbody tr th {\n",
       "        vertical-align: top;\n",
       "    }\n",
       "\n",
       "    .dataframe thead th {\n",
       "        text-align: right;\n",
       "    }\n",
       "</style>\n",
       "<table border=\"1\" class=\"dataframe\">\n",
       "  <thead>\n",
       "    <tr style=\"text-align: right;\">\n",
       "      <th></th>\n",
       "      <th>GeneID</th>\n",
       "      <th>count</th>\n",
       "    </tr>\n",
       "  </thead>\n",
       "  <tbody>\n",
       "    <tr>\n",
       "      <th>0</th>\n",
       "      <td>1</td>\n",
       "      <td>36</td>\n",
       "    </tr>\n",
       "    <tr>\n",
       "      <th>1</th>\n",
       "      <td>2</td>\n",
       "      <td>286</td>\n",
       "    </tr>\n",
       "    <tr>\n",
       "      <th>2</th>\n",
       "      <td>3</td>\n",
       "      <td>6</td>\n",
       "    </tr>\n",
       "    <tr>\n",
       "      <th>3</th>\n",
       "      <td>9</td>\n",
       "      <td>252</td>\n",
       "    </tr>\n",
       "    <tr>\n",
       "      <th>4</th>\n",
       "      <td>10</td>\n",
       "      <td>725</td>\n",
       "    </tr>\n",
       "  </tbody>\n",
       "</table>\n",
       "</div>"
      ],
      "text/plain": [
       "   GeneID  count\n",
       "0       1     36\n",
       "1       2    286\n",
       "2       3      6\n",
       "3       9    252\n",
       "4      10    725"
      ]
     },
     "execution_count": 17,
     "metadata": {},
     "output_type": "execute_result"
    }
   ],
   "source": [
    "### study bias\n",
    "\n",
    "g2pub = pd.read_csv(os.path.join(dir2,'gene2pubmed'),'\\t')\n",
    "g2pub = g2pub.loc[g2pub['#tax_id']==9606,]\n",
    "g2pub.reset_index(inplace = True, drop = True)\n",
    "print(g2pub.shape)\n",
    "print(g2pub.head())\n",
    "\n",
    "df = g2pub.groupby(['GeneID']).count()\n",
    "\n",
    "counts_df = pd.DataFrame({'GeneID':df.index, 'count':df.PubMed_ID})\n",
    "counts_df.reset_index(inplace = True, drop = True)\n",
    "counts_df.head()"
   ]
  },
  {
   "cell_type": "code",
   "execution_count": 48,
   "id": "08e16e8a-80ef-48b1-b066-4f8724ecf8b5",
   "metadata": {},
   "outputs": [
    {
     "name": "stdout",
     "output_type": "stream",
     "text": [
      "querying 1-1000...done.\n",
      "querying 1001-2000...done.\n",
      "querying 2001-3000...done.\n",
      "querying 3001-4000...done.\n",
      "querying 4001-5000...done.\n",
      "querying 5001-6000...done.\n",
      "querying 6001-7000...done.\n",
      "querying 7001-8000...done.\n",
      "querying 8001-9000...done.\n",
      "querying 9001-10000...done.\n",
      "querying 10001-11000...done.\n",
      "querying 11001-12000...done.\n",
      "querying 12001-13000...done.\n",
      "querying 13001-14000...done.\n",
      "querying 14001-15000...done.\n",
      "querying 15001-16000...done.\n",
      "querying 16001-17000...done.\n",
      "querying 17001-18000...done.\n",
      "querying 18001-19000...done.\n",
      "querying 19001-20000...done.\n",
      "querying 20001-21000...done.\n",
      "querying 21001-22000...done.\n",
      "querying 22001-23000...done.\n",
      "querying 23001-24000...done.\n",
      "querying 24001-25000...done.\n",
      "querying 25001-26000...done.\n",
      "querying 26001-27000...done.\n",
      "querying 27001-28000...done.\n",
      "querying 28001-29000...done.\n",
      "querying 29001-30000...done.\n",
      "querying 30001-31000...done.\n",
      "querying 31001-32000...done.\n",
      "querying 32001-33000...done.\n",
      "querying 33001-34000...done.\n",
      "querying 34001-35000...done.\n",
      "querying 35001-36000...done.\n",
      "querying 36001-37000...done.\n",
      "querying 37001-38000...done.\n",
      "querying 38001-39000...done.\n",
      "querying 39001-40000...done.\n",
      "querying 40001-41000...done.\n",
      "querying 41001-42000...done.\n",
      "querying 42001-43000...done.\n",
      "querying 43001-44000...done.\n",
      "querying 44001-44737...done.\n",
      "Finished.\n",
      "2 input query terms found no hit:\n",
      "\t['126264115', '126264116']\n",
      "Pass \"returnall=True\" to return complete lists of duplicate or missing query terms.\n"
     ]
    }
   ],
   "source": [
    "### convert geneID to gene symbol\n",
    "import mygene\n",
    "\n",
    "mg = mygene.MyGeneInfo()\n",
    "xli = counts_df['GeneID'].values.tolist()\n",
    "out = mg.querymany(xli, scopes='entrezgene', fields='symbol', species='human')"
   ]
  },
  {
   "cell_type": "code",
   "execution_count": 51,
   "id": "8c9e3246-fa2b-4b4a-9d12-ddd4ef11699e",
   "metadata": {},
   "outputs": [
    {
     "data": {
      "text/plain": [
       "[4, 2]"
      ]
     },
     "execution_count": 51,
     "metadata": {},
     "output_type": "execute_result"
    }
   ],
   "source": [
    "x = []\n",
    "for i in out:\n",
    "    if len(i) not in x:\n",
    "        x.append(len(i))\n",
    "x"
   ]
  },
  {
   "cell_type": "code",
   "execution_count": 52,
   "id": "d3d9caaa-0188-40b9-bb7a-bfeeb2bda231",
   "metadata": {},
   "outputs": [
    {
     "name": "stdout",
     "output_type": "stream",
     "text": [
      "44737 44737\n"
     ]
    }
   ],
   "source": [
    "gene_ids = []\n",
    "gene_symbols = []\n",
    "for i in out:\n",
    "    if len(i)==4:   # if the query found a hit\n",
    "        gene_ids.append(i['query'])\n",
    "        gene_symbols.append(i['symbol'])\n",
    "    else:\n",
    "        if i['query']=='126264115':\n",
    "            gene_ids.append(i['query'])\n",
    "            gene_symbols.append('LOC'+i['query'])\n",
    "        elif i['query']=='126264116':\n",
    "            gene_ids.append(i['query'])\n",
    "            gene_symbols.append('LOC'+i['query'])\n",
    "\n",
    "print(len(gene_ids),len(gene_symbols))"
   ]
  },
  {
   "cell_type": "code",
   "execution_count": 59,
   "id": "a53ac348-a24a-422c-81b9-496023919293",
   "metadata": {},
   "outputs": [
    {
     "data": {
      "text/plain": [
       "True"
      ]
     },
     "execution_count": 59,
     "metadata": {},
     "output_type": "execute_result"
    }
   ],
   "source": [
    "[str(i) for i in xli]==gene_ids"
   ]
  },
  {
   "cell_type": "code",
   "execution_count": 63,
   "id": "d93bfd04-420b-4323-9784-6e2d8a2302eb",
   "metadata": {},
   "outputs": [
    {
     "data": {
      "text/html": [
       "<div>\n",
       "<style scoped>\n",
       "    .dataframe tbody tr th:only-of-type {\n",
       "        vertical-align: middle;\n",
       "    }\n",
       "\n",
       "    .dataframe tbody tr th {\n",
       "        vertical-align: top;\n",
       "    }\n",
       "\n",
       "    .dataframe thead th {\n",
       "        text-align: right;\n",
       "    }\n",
       "</style>\n",
       "<table border=\"1\" class=\"dataframe\">\n",
       "  <thead>\n",
       "    <tr style=\"text-align: right;\">\n",
       "      <th></th>\n",
       "      <th>GeneID</th>\n",
       "      <th>count</th>\n",
       "      <th>gene_symbol</th>\n",
       "    </tr>\n",
       "  </thead>\n",
       "  <tbody>\n",
       "    <tr>\n",
       "      <th>0</th>\n",
       "      <td>1</td>\n",
       "      <td>36</td>\n",
       "      <td>A1BG</td>\n",
       "    </tr>\n",
       "    <tr>\n",
       "      <th>1</th>\n",
       "      <td>2</td>\n",
       "      <td>286</td>\n",
       "      <td>A2M</td>\n",
       "    </tr>\n",
       "    <tr>\n",
       "      <th>2</th>\n",
       "      <td>3</td>\n",
       "      <td>6</td>\n",
       "      <td>A2MP1</td>\n",
       "    </tr>\n",
       "    <tr>\n",
       "      <th>3</th>\n",
       "      <td>9</td>\n",
       "      <td>252</td>\n",
       "      <td>NAT1</td>\n",
       "    </tr>\n",
       "    <tr>\n",
       "      <th>4</th>\n",
       "      <td>10</td>\n",
       "      <td>725</td>\n",
       "      <td>NAT2</td>\n",
       "    </tr>\n",
       "  </tbody>\n",
       "</table>\n",
       "</div>"
      ],
      "text/plain": [
       "   GeneID  count gene_symbol\n",
       "0       1     36        A1BG\n",
       "1       2    286         A2M\n",
       "2       3      6       A2MP1\n",
       "3       9    252        NAT1\n",
       "4      10    725        NAT2"
      ]
     },
     "execution_count": 63,
     "metadata": {},
     "output_type": "execute_result"
    }
   ],
   "source": [
    "counts_df['gene_symbol'] = gene_symbols\n",
    "\n",
    "filename = os.path.join(dir2,'publications_all_genes.txt')\n",
    "counts_df.to_csv(filename, sep = '\\t')\n",
    "\n",
    "counts_df.head()\n"
   ]
  }
 ],
 "metadata": {
  "kernelspec": {
   "display_name": "Python 3 (ipykernel)",
   "language": "python",
   "name": "python3"
  },
  "language_info": {
   "codemirror_mode": {
    "name": "ipython",
    "version": 3
   },
   "file_extension": ".py",
   "mimetype": "text/x-python",
   "name": "python",
   "nbconvert_exporter": "python",
   "pygments_lexer": "ipython3",
   "version": "3.9.12"
  }
 },
 "nbformat": 4,
 "nbformat_minor": 5
}
